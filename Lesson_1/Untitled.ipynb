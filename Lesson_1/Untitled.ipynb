{
 "cells": [
  {
   "cell_type": "markdown",
   "id": "17896d2c",
   "metadata": {},
   "source": [
    "### Intro"
   ]
  },
  {
   "cell_type": "markdown",
   "id": "beeb939a",
   "metadata": {},
   "source": [
    "These lessons are designed for teaching complete beginners, knowledge of scratch is a great way for young students to pick up the problem solving concepts like iteration and conditionals but not necessary.\n",
    "\n",
    "To get students set up quickly, I like to use Replit as they only need an email address, and you don’t have to walk them through a scary install, it has a simpler interface than something like VScode and we can be invited so that we can change the code if they make small syntax errors.\n",
    "This is of course completely optional, but I think it really helps. \n",
    "\n",
    "Now this first lesson is just going to focus on input/output and variables, hopefully picking up some terms like syntax on the way. I find it’s really important to let students walk into mistakes and have to fix their own mistakes and get used to fixing errors in the console. I also try to make sure each part leads logically onto the next with quite a fast pace, so you can also have students pause and do an extra exercise to improve their understanding.\n"
   ]
  },
  {
   "cell_type": "markdown",
   "id": "a51af3c0",
   "metadata": {},
   "source": [
    "#### Hello World"
   ]
  },
  {
   "cell_type": "markdown",
   "id": "08e537a6",
   "metadata": {},
   "source": [
    "After showing students how to print hello world, I'd ask the students to try to print their name by changing the string."
   ]
  },
  {
   "cell_type": "code",
   "execution_count": 4,
   "id": "a6c9795d",
   "metadata": {},
   "outputs": [
    {
     "name": "stdout",
     "output_type": "stream",
     "text": [
      "Hello World\n"
     ]
    }
   ],
   "source": [
    "print(\"Hello World\")"
   ]
  },
  {
   "cell_type": "markdown",
   "id": "2bd13660",
   "metadata": {},
   "source": [
    "I then like to challenge them to print a triangle given the top, like so. This is going to involve the student having to write multiple lines, and helps students think about executing instructions in the right order, and that when writing a string the whole content including the spaces are included."
   ]
  },
  {
   "cell_type": "code",
   "execution_count": 7,
   "id": "a69d903b",
   "metadata": {},
   "outputs": [
    {
     "name": "stdout",
     "output_type": "stream",
     "text": [
      "/|\n",
      "   /|\n",
      "  / |\n",
      " /  |\n",
      "/___|\n"
     ]
    }
   ],
   "source": [
    "#Given:\n",
    "\n",
    "print(\"/|\")\n",
    "      \n",
    "#Students should\n",
    "      \n",
    "print(\"   /|\")\n",
    "print(\"  / |\")\n",
    "print(\" /  |\")\n",
    "print(\"/___|\")"
   ]
  },
  {
   "cell_type": "markdown",
   "id": "64b1e2b6",
   "metadata": {},
   "source": [
    "#### Variables and Input\n",
    "Now we introduce the idea of variables, showing the students how to store their name in a variable. We’ll use this to show them how to concatenate strings with variables using both plus and comma."
   ]
  },
  {
   "cell_type": "code",
   "execution_count": 10,
   "id": "ba4559a1",
   "metadata": {},
   "outputs": [
    {
     "name": "stdout",
     "output_type": "stream",
     "text": [
      "Hello Dave!!!\n"
     ]
    }
   ],
   "source": [
    "name = \"Dave\"\n",
    "print(\"Hello\", name + \"!!!\")"
   ]
  },
  {
   "cell_type": "markdown",
   "id": "b21a2b60",
   "metadata": {},
   "source": [
    "I’d then ask the students to write three sentences about themselves in the third-person, something like “my name is”, how old they are and the year they were born. With what we’ve just shown them, I'd challenge the student to store their name as a variable, and insert this variable into the three lines. I’d then introduce input() to allow a user to make the variable's value be an inputted stiring. \n"
   ]
  },
  {
   "cell_type": "code",
   "execution_count": 11,
   "id": "8ad6c848",
   "metadata": {},
   "outputs": [
    {
     "name": "stdout",
     "output_type": "stream",
     "text": [
      "My name is Dave\n",
      "I am 14 year old\n",
      "I was born in 2009\n"
     ]
    }
   ],
   "source": [
    "print(\"Their name is Dave\")\n",
    "print(\"Dave is 14 year old\")\n",
    "print(\"Dave was born in 2009\")"
   ]
  },
  {
   "cell_type": "code",
   "execution_count": 13,
   "id": "022321bb",
   "metadata": {},
   "outputs": [
    {
     "name": "stdout",
     "output_type": "stream",
     "text": [
      "What is your name?   Dave\n",
      "Their name is Dave\n",
      "Dave is 14 year old\n",
      "Dave was born in 2009\n"
     ]
    }
   ],
   "source": [
    "#Given:\n",
    "name = input(\"What is your name?   \")\n",
    "\n",
    "#Students should\n",
    "print(\"Their name is\", name)\n",
    "print(name, \"is 14 year old\")\n",
    "print(name,\"was born in 2009\")"
   ]
  },
  {
   "cell_type": "markdown",
   "id": "99db8892",
   "metadata": {},
   "source": [
    "I then ask students to make the year of birth work the same way. Using the value, we should be able to work out how old they are, right? Well not in the way they might think because if we take the given year from the current, we’ll get an error."
   ]
  },
  {
   "cell_type": "code",
   "execution_count": 16,
   "id": "4419fa55",
   "metadata": {},
   "outputs": [
    {
     "name": "stdout",
     "output_type": "stream",
     "text": [
      "What is your name?   Dave\n",
      "When were you born?   2009\n",
      "Their name is Dave\n"
     ]
    },
    {
     "ename": "TypeError",
     "evalue": "unsupported operand type(s) for -: 'int' and 'str'",
     "output_type": "error",
     "traceback": [
      "\u001b[1;31m---------------------------------------------------------------------------\u001b[0m",
      "\u001b[1;31mTypeError\u001b[0m                                 Traceback (most recent call last)",
      "\u001b[1;32m<ipython-input-16-dd631103532c>\u001b[0m in \u001b[0;36m<module>\u001b[1;34m\u001b[0m\n\u001b[0;32m      2\u001b[0m \u001b[0mbirth_year\u001b[0m \u001b[1;33m=\u001b[0m \u001b[0minput\u001b[0m\u001b[1;33m(\u001b[0m\u001b[1;34m\"When were you born?   \"\u001b[0m\u001b[1;33m)\u001b[0m\u001b[1;33m\u001b[0m\u001b[1;33m\u001b[0m\u001b[0m\n\u001b[0;32m      3\u001b[0m \u001b[0mprint\u001b[0m\u001b[1;33m(\u001b[0m\u001b[1;34m\"Their name is\"\u001b[0m\u001b[1;33m,\u001b[0m \u001b[0mname\u001b[0m\u001b[1;33m)\u001b[0m\u001b[1;33m\u001b[0m\u001b[1;33m\u001b[0m\u001b[0m\n\u001b[1;32m----> 4\u001b[1;33m \u001b[0mprint\u001b[0m\u001b[1;33m(\u001b[0m\u001b[0mname\u001b[0m\u001b[1;33m,\u001b[0m \u001b[1;34m\"is\"\u001b[0m\u001b[1;33m,\u001b[0m \u001b[1;36m2023\u001b[0m \u001b[1;33m-\u001b[0m \u001b[0mbirth_year\u001b[0m\u001b[1;33m,\u001b[0m \u001b[1;34m\"year old\"\u001b[0m\u001b[1;33m)\u001b[0m\u001b[1;33m\u001b[0m\u001b[1;33m\u001b[0m\u001b[0m\n\u001b[0m\u001b[0;32m      5\u001b[0m \u001b[0mprint\u001b[0m\u001b[1;33m(\u001b[0m\u001b[0mname\u001b[0m\u001b[1;33m,\u001b[0m\u001b[1;34m\"was born in\"\u001b[0m\u001b[1;33m,\u001b[0m \u001b[0mbirth_year\u001b[0m\u001b[1;33m)\u001b[0m\u001b[1;33m\u001b[0m\u001b[1;33m\u001b[0m\u001b[0m\n",
      "\u001b[1;31mTypeError\u001b[0m: unsupported operand type(s) for -: 'int' and 'str'"
     ]
    }
   ],
   "source": [
    "name = input(\"What is your name?   \")\n",
    "birth_year = input(\"When were you born?   \")\n",
    "print(\"Their name is\", name)\n",
    "print(name, \"is\", 2023 - birth_year, \"year old\")\n",
    "print(name,\"was born in\", birth_year)"
   ]
  },
  {
   "cell_type": "markdown",
   "id": "1e34ac7a",
   "metadata": {},
   "source": [
    "#### Type Conversion"
   ]
  },
  {
   "cell_type": "markdown",
   "id": "c02f93e8",
   "metadata": {},
   "source": [
    "Here I like to explain what a string actually is, that is that the string “2000” and the integer 2000 are not the same. Here I like to mention floats and boolean values too, but not go into much detail.\n",
    "\n",
    "To convert between the two we can use int() and str(), and we need the value to be an integer to convert the year to an int and be able to use it to predict the age of the user.\n"
   ]
  },
  {
   "cell_type": "code",
   "execution_count": 24,
   "id": "3bcbef96",
   "metadata": {},
   "outputs": [
    {
     "name": "stdout",
     "output_type": "stream",
     "text": [
      "False\n",
      "True\n",
      "True\n"
     ]
    }
   ],
   "source": [
    "string = \"Hello\"\n",
    "integer = 4\n",
    "boolean = True\n",
    "float_ = 0.5\n",
    "print(\"2000\" == 2000)\n",
    "print(int(\"2000\") == 2000)\n",
    "print(\"2000\" == str(2000))"
   ]
  },
  {
   "cell_type": "code",
   "execution_count": 19,
   "id": "14a43022",
   "metadata": {},
   "outputs": [
    {
     "name": "stdout",
     "output_type": "stream",
     "text": [
      "What is your name?   Dave\n",
      "When were you born?   2009\n",
      "Their name is Dave\n",
      "Dave is 14 year old\n",
      "Dave was born in 2009\n"
     ]
    }
   ],
   "source": [
    "name = input(\"What is your name?   \")\n",
    "birth_year = input(\"When were you born?   \")\n",
    "print(\"Their name is\", name)\n",
    "print(name, \"is\", 2023 - int(birth_year), \"year old\")\n",
    "print(name,\"was born in\", birth_year)"
   ]
  },
  {
   "cell_type": "markdown",
   "id": "9bfc1dcd",
   "metadata": {},
   "source": [
    "#### Final Challenge"
   ]
  },
  {
   "cell_type": "markdown",
   "id": "90e9e83a",
   "metadata": {},
   "source": [
    "It’s here that I look for a way to really challenge the students to combine all of what we’ve done so far. It’s at this point I ask the students to make a simple calculator that adds two numbers. This is going to require students to take in two values as input, convert their data types for strings to integers, and format the whole thing as using string concatenation. \n",
    "\n",
    "After the students have had a go you can show the students all the different operations they can do, even exponential and modulo, how they might use f-strings instead to make their output look better, and how they could use ifs to combine.\n"
   ]
  },
  {
   "cell_type": "code",
   "execution_count": 27,
   "id": "c577eb9a",
   "metadata": {},
   "outputs": [
    {
     "name": "stdout",
     "output_type": "stream",
     "text": [
      "Number 1:  8\n",
      "Number 2:  9\n",
      "8 + 9 = 17\n"
     ]
    }
   ],
   "source": [
    "num1 = input(\"Number 1:  \")\n",
    "num2 = input(\"Number 2:  \")\n",
    "\n",
    "answer = int(num1) + int(num2)\n",
    "\n",
    "print(num1, \"+\", num2, \"=\", answer)"
   ]
  }
 ],
 "metadata": {
  "kernelspec": {
   "display_name": "Python 3",
   "language": "python",
   "name": "python3"
  },
  "language_info": {
   "codemirror_mode": {
    "name": "ipython",
    "version": 3
   },
   "file_extension": ".py",
   "mimetype": "text/x-python",
   "name": "python",
   "nbconvert_exporter": "python",
   "pygments_lexer": "ipython3",
   "version": "3.8.8"
  }
 },
 "nbformat": 4,
 "nbformat_minor": 5
}
