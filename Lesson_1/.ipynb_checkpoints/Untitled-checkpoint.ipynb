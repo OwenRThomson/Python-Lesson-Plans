{
 "cells": [
  {
   "cell_type": "markdown",
   "id": "409f8f7a",
   "metadata": {},
   "source": [
    "### Intro"
   ]
  },
  {
   "cell_type": "markdown",
   "id": "ad659b70",
   "metadata": {},
   "source": [
    "These lessons are designed for teaching complete beginners, knowledge of scratch is a great way for young students to pick up the problem solving concepts like iteration and conditionals but not necessary.\n",
    "\n",
    "To get students set up quickly, I like to use Replit as they only need an email address, and you don’t have to walk them through a scary install, it has a simpler interface than something like VScode and we can be invited so that we can change the code if they make small syntax errors.\n",
    "This is of course completely optional, but I think it really helps. \n",
    "\n",
    "Now this first lesson is just going to focus on input/output and variables, hopefully picking up some terms like syntax on the way. I find it’s really important to let students walk into mistakes and have to fix their own mistakes and get used to fixing errors in the console. I also try to make sure each part leads logically onto the next with quite a fast pace, so you can also have students pause and do an extra exercise to improve their understanding.\n"
   ]
  },
  {
   "cell_type": "markdown",
   "id": "5ff8102e",
   "metadata": {},
   "source": [
    "#### Hello World"
   ]
  },
  {
   "cell_type": "markdown",
   "id": "8f2af3e0",
   "metadata": {},
   "source": [
    "After showing students how to print hello world, I'd ask the students to try to print their name by changing the string."
   ]
  },
  {
   "cell_type": "code",
   "execution_count": 4,
   "id": "2d4b43ba",
   "metadata": {},
   "outputs": [
    {
     "name": "stdout",
     "output_type": "stream",
     "text": [
      "Hello World\n"
     ]
    }
   ],
   "source": [
    "print(\"Hello World\")"
   ]
  },
  {
   "cell_type": "markdown",
   "id": "60d9cba9",
   "metadata": {},
   "source": [
    "I then like to challenge them to print a triangle given the top, like so. This is going to involve the student having to write multiple lines, and helps students think about executing instructions in the right order, and that when writing a string the whole content including the spaces are included."
   ]
  },
  {
   "cell_type": "code",
   "execution_count": 7,
   "id": "996de4d5",
   "metadata": {},
   "outputs": [
    {
     "name": "stdout",
     "output_type": "stream",
     "text": [
      "/|\n",
      "   /|\n",
      "  / |\n",
      " /  |\n",
      "/___|\n"
     ]
    }
   ],
   "source": [
    "#Given:\n",
    "\n",
    "print(\"/|\")\n",
    "      \n",
    "#Students should\n",
    "      \n",
    "print(\"   /|\")\n",
    "print(\"  / |\")\n",
    "print(\" /  |\")\n",
    "print(\"/___|\")"
   ]
  },
  {
   "cell_type": "markdown",
   "id": "3321f3b6",
   "metadata": {},
   "source": [
    "Now we introduce the idea of variables, showing the students how to store their name in a variable. We’ll use this to show them how to concatenate strings with variables using both plus and comma."
   ]
  },
  {
   "cell_type": "code",
   "execution_count": 10,
   "id": "f25d93a9",
   "metadata": {},
   "outputs": [
    {
     "name": "stdout",
     "output_type": "stream",
     "text": [
      "Hello Dave!!!\n"
     ]
    }
   ],
   "source": [
    "name = \"Dave\"\n",
    "print(\"Hello\", name + \"!!!\")"
   ]
  },
  {
   "cell_type": "markdown",
   "id": "ed36ae45",
   "metadata": {},
   "source": [
    "I’d then ask the students to write three sentences about themselves in the third-person, something like “my name is”, how old they are and the year they were born. With what we’ve just shown them, I'd challenge the student to store their name as a variable, and insert this variable into the three lines. I’d then introduce input() to allow a user to make the variable's value be an inputted stiring. \n"
   ]
  },
  {
   "cell_type": "code",
   "execution_count": 11,
   "id": "40cdcd38",
   "metadata": {},
   "outputs": [
    {
     "name": "stdout",
     "output_type": "stream",
     "text": [
      "My name is Dave\n",
      "I am 14 year old\n",
      "I was born in 2009\n"
     ]
    }
   ],
   "source": [
    "print(\"Their name is Dave\")\n",
    "print(\"Dave is 14 year old\")\n",
    "print(\"Dave was born in 2009\")"
   ]
  },
  {
   "cell_type": "code",
   "execution_count": 12,
   "id": "17cc8f4b",
   "metadata": {},
   "outputs": [
    {
     "name": "stdout",
     "output_type": "stream",
     "text": [
      "What is your nameOwen\n",
      "Their name is Owen\n",
      "Owen is 14 year old\n",
      "I was born in 2009\n"
     ]
    }
   ],
   "source": [
    "#Given:\n",
    "name = input(\"What is your name?   \")\n",
    "\n",
    "#Students should\n",
    "print(\"Their name is\", name)\n",
    "print(name, \"is 14 year old\")\n",
    "print(\"I was born in 2009\")"
   ]
  }
 ],
 "metadata": {
  "kernelspec": {
   "display_name": "Python 3",
   "language": "python",
   "name": "python3"
  },
  "language_info": {
   "codemirror_mode": {
    "name": "ipython",
    "version": 3
   },
   "file_extension": ".py",
   "mimetype": "text/x-python",
   "name": "python",
   "nbconvert_exporter": "python",
   "pygments_lexer": "ipython3",
   "version": "3.8.8"
  }
 },
 "nbformat": 4,
 "nbformat_minor": 5
}
